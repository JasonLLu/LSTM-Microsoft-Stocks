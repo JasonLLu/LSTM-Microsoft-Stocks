{
 "cells": [
  {
   "cell_type": "code",
   "execution_count": 34,
   "metadata": {},
   "outputs": [],
   "source": [
    "import pandas as pd\n",
    "import tensorflow as tf\n",
    "from matplotlib import pyplot as plt\n",
    "from sklearn.model_selection import train_test_split\n",
    "from sklearn import preprocessing"
   ]
  },
  {
   "cell_type": "code",
   "execution_count": 3,
   "metadata": {},
   "outputs": [
    {
     "data": {
      "text/html": [
       "<div>\n",
       "<style scoped>\n",
       "    .dataframe tbody tr th:only-of-type {\n",
       "        vertical-align: middle;\n",
       "    }\n",
       "\n",
       "    .dataframe tbody tr th {\n",
       "        vertical-align: top;\n",
       "    }\n",
       "\n",
       "    .dataframe thead th {\n",
       "        text-align: right;\n",
       "    }\n",
       "</style>\n",
       "<table border=\"1\" class=\"dataframe\">\n",
       "  <thead>\n",
       "    <tr style=\"text-align: right;\">\n",
       "      <th></th>\n",
       "      <th>Date</th>\n",
       "      <th>Open</th>\n",
       "      <th>High</th>\n",
       "      <th>Low</th>\n",
       "      <th>Close</th>\n",
       "      <th>Volume</th>\n",
       "      <th>Dividend</th>\n",
       "      <th>Split</th>\n",
       "      <th>Adj_Open</th>\n",
       "      <th>Adj_High</th>\n",
       "      <th>Adj_Low</th>\n",
       "      <th>Adj_Close</th>\n",
       "      <th>Adj_Volume</th>\n",
       "    </tr>\n",
       "  </thead>\n",
       "  <tbody>\n",
       "    <tr>\n",
       "      <th>0</th>\n",
       "      <td>2017-12-28</td>\n",
       "      <td>85.90</td>\n",
       "      <td>85.9300</td>\n",
       "      <td>85.550</td>\n",
       "      <td>85.72</td>\n",
       "      <td>10594344.0</td>\n",
       "      <td>0.0</td>\n",
       "      <td>1.0</td>\n",
       "      <td>83.768909</td>\n",
       "      <td>83.798164</td>\n",
       "      <td>83.427592</td>\n",
       "      <td>83.593374</td>\n",
       "      <td>10594344.0</td>\n",
       "    </tr>\n",
       "    <tr>\n",
       "      <th>1</th>\n",
       "      <td>2017-12-27</td>\n",
       "      <td>85.65</td>\n",
       "      <td>85.9800</td>\n",
       "      <td>85.215</td>\n",
       "      <td>85.71</td>\n",
       "      <td>14678025.0</td>\n",
       "      <td>0.0</td>\n",
       "      <td>1.0</td>\n",
       "      <td>83.525111</td>\n",
       "      <td>83.846924</td>\n",
       "      <td>83.100903</td>\n",
       "      <td>83.583622</td>\n",
       "      <td>14678025.0</td>\n",
       "    </tr>\n",
       "    <tr>\n",
       "      <th>2</th>\n",
       "      <td>2017-12-26</td>\n",
       "      <td>85.31</td>\n",
       "      <td>85.5346</td>\n",
       "      <td>85.030</td>\n",
       "      <td>85.40</td>\n",
       "      <td>9891237.0</td>\n",
       "      <td>0.0</td>\n",
       "      <td>1.0</td>\n",
       "      <td>83.193546</td>\n",
       "      <td>83.412574</td>\n",
       "      <td>82.920492</td>\n",
       "      <td>83.281313</td>\n",
       "      <td>9891237.0</td>\n",
       "    </tr>\n",
       "    <tr>\n",
       "      <th>3</th>\n",
       "      <td>2017-12-22</td>\n",
       "      <td>85.40</td>\n",
       "      <td>85.6300</td>\n",
       "      <td>84.920</td>\n",
       "      <td>85.51</td>\n",
       "      <td>14145841.0</td>\n",
       "      <td>0.0</td>\n",
       "      <td>1.0</td>\n",
       "      <td>83.281313</td>\n",
       "      <td>83.505607</td>\n",
       "      <td>82.813221</td>\n",
       "      <td>83.388584</td>\n",
       "      <td>14145841.0</td>\n",
       "    </tr>\n",
       "    <tr>\n",
       "      <th>4</th>\n",
       "      <td>2017-12-21</td>\n",
       "      <td>86.05</td>\n",
       "      <td>86.1000</td>\n",
       "      <td>85.400</td>\n",
       "      <td>85.50</td>\n",
       "      <td>17990745.0</td>\n",
       "      <td>0.0</td>\n",
       "      <td>1.0</td>\n",
       "      <td>83.915187</td>\n",
       "      <td>83.963947</td>\n",
       "      <td>83.281313</td>\n",
       "      <td>83.378832</td>\n",
       "      <td>17990745.0</td>\n",
       "    </tr>\n",
       "  </tbody>\n",
       "</table>\n",
       "</div>"
      ],
      "text/plain": [
       "         Date   Open     High     Low  Close      Volume  Dividend  Split  \\\n",
       "0  2017-12-28  85.90  85.9300  85.550  85.72  10594344.0       0.0    1.0   \n",
       "1  2017-12-27  85.65  85.9800  85.215  85.71  14678025.0       0.0    1.0   \n",
       "2  2017-12-26  85.31  85.5346  85.030  85.40   9891237.0       0.0    1.0   \n",
       "3  2017-12-22  85.40  85.6300  84.920  85.51  14145841.0       0.0    1.0   \n",
       "4  2017-12-21  86.05  86.1000  85.400  85.50  17990745.0       0.0    1.0   \n",
       "\n",
       "    Adj_Open   Adj_High    Adj_Low  Adj_Close  Adj_Volume  \n",
       "0  83.768909  83.798164  83.427592  83.593374  10594344.0  \n",
       "1  83.525111  83.846924  83.100903  83.583622  14678025.0  \n",
       "2  83.193546  83.412574  82.920492  83.281313   9891237.0  \n",
       "3  83.281313  83.505607  82.813221  83.388584  14145841.0  \n",
       "4  83.915187  83.963947  83.281313  83.378832  17990745.0  "
      ]
     },
     "execution_count": 3,
     "metadata": {},
     "output_type": "execute_result"
    }
   ],
   "source": [
    "dfm = pd.read_csv('EOD-MSFT.csv')\n",
    "dfm.head()\n",
    "#iloc[:,:] use numbers\n",
    "#loc[:,:] use names"
   ]
  },
  {
   "cell_type": "code",
   "execution_count": 4,
   "metadata": {},
   "outputs": [],
   "source": [
    "dfm = dfm[::-1]"
   ]
  },
  {
   "cell_type": "code",
   "execution_count": 5,
   "metadata": {},
   "outputs": [],
   "source": [
    "dfm.index = range(len(dfm))"
   ]
  },
  {
   "cell_type": "code",
   "execution_count": 6,
   "metadata": {},
   "outputs": [
    {
     "data": {
      "text/html": [
       "<div>\n",
       "<style scoped>\n",
       "    .dataframe tbody tr th:only-of-type {\n",
       "        vertical-align: middle;\n",
       "    }\n",
       "\n",
       "    .dataframe tbody tr th {\n",
       "        vertical-align: top;\n",
       "    }\n",
       "\n",
       "    .dataframe thead th {\n",
       "        text-align: right;\n",
       "    }\n",
       "</style>\n",
       "<table border=\"1\" class=\"dataframe\">\n",
       "  <thead>\n",
       "    <tr style=\"text-align: right;\">\n",
       "      <th></th>\n",
       "      <th>Date</th>\n",
       "      <th>Open</th>\n",
       "      <th>High</th>\n",
       "      <th>Low</th>\n",
       "      <th>Close</th>\n",
       "      <th>Volume</th>\n",
       "      <th>Dividend</th>\n",
       "      <th>Split</th>\n",
       "      <th>Adj_Open</th>\n",
       "      <th>Adj_High</th>\n",
       "      <th>Adj_Low</th>\n",
       "      <th>Adj_Close</th>\n",
       "      <th>Adj_Volume</th>\n",
       "    </tr>\n",
       "  </thead>\n",
       "  <tbody>\n",
       "    <tr>\n",
       "      <th>0</th>\n",
       "      <td>2013-09-03</td>\n",
       "      <td>31.7500</td>\n",
       "      <td>32.07</td>\n",
       "      <td>31.29</td>\n",
       "      <td>31.880</td>\n",
       "      <td>154507000.0</td>\n",
       "      <td>0.0</td>\n",
       "      <td>1.0</td>\n",
       "      <td>27.728748</td>\n",
       "      <td>28.008219</td>\n",
       "      <td>27.327009</td>\n",
       "      <td>27.842283</td>\n",
       "      <td>154507000.0</td>\n",
       "    </tr>\n",
       "    <tr>\n",
       "      <th>1</th>\n",
       "      <td>2013-09-04</td>\n",
       "      <td>31.3900</td>\n",
       "      <td>31.47</td>\n",
       "      <td>31.11</td>\n",
       "      <td>31.195</td>\n",
       "      <td>142320600.0</td>\n",
       "      <td>0.0</td>\n",
       "      <td>1.0</td>\n",
       "      <td>27.414344</td>\n",
       "      <td>27.484211</td>\n",
       "      <td>27.169807</td>\n",
       "      <td>27.244041</td>\n",
       "      <td>142320600.0</td>\n",
       "    </tr>\n",
       "    <tr>\n",
       "      <th>2</th>\n",
       "      <td>2013-09-05</td>\n",
       "      <td>31.1000</td>\n",
       "      <td>31.44</td>\n",
       "      <td>30.95</td>\n",
       "      <td>31.235</td>\n",
       "      <td>71644900.0</td>\n",
       "      <td>0.0</td>\n",
       "      <td>1.0</td>\n",
       "      <td>27.161073</td>\n",
       "      <td>27.458011</td>\n",
       "      <td>27.030071</td>\n",
       "      <td>27.278975</td>\n",
       "      <td>71644900.0</td>\n",
       "    </tr>\n",
       "    <tr>\n",
       "      <th>3</th>\n",
       "      <td>2013-09-06</td>\n",
       "      <td>31.3100</td>\n",
       "      <td>31.39</td>\n",
       "      <td>31.13</td>\n",
       "      <td>31.152</td>\n",
       "      <td>75434900.0</td>\n",
       "      <td>0.0</td>\n",
       "      <td>1.0</td>\n",
       "      <td>27.344476</td>\n",
       "      <td>27.414344</td>\n",
       "      <td>27.187274</td>\n",
       "      <td>27.206487</td>\n",
       "      <td>75434900.0</td>\n",
       "    </tr>\n",
       "    <tr>\n",
       "      <th>4</th>\n",
       "      <td>2013-09-09</td>\n",
       "      <td>31.2208</td>\n",
       "      <td>31.79</td>\n",
       "      <td>31.20</td>\n",
       "      <td>31.655</td>\n",
       "      <td>49628500.0</td>\n",
       "      <td>0.0</td>\n",
       "      <td>1.0</td>\n",
       "      <td>27.266573</td>\n",
       "      <td>27.763682</td>\n",
       "      <td>27.248408</td>\n",
       "      <td>27.645781</td>\n",
       "      <td>49628500.0</td>\n",
       "    </tr>\n",
       "  </tbody>\n",
       "</table>\n",
       "</div>"
      ],
      "text/plain": [
       "         Date     Open   High    Low   Close       Volume  Dividend  Split  \\\n",
       "0  2013-09-03  31.7500  32.07  31.29  31.880  154507000.0       0.0    1.0   \n",
       "1  2013-09-04  31.3900  31.47  31.11  31.195  142320600.0       0.0    1.0   \n",
       "2  2013-09-05  31.1000  31.44  30.95  31.235   71644900.0       0.0    1.0   \n",
       "3  2013-09-06  31.3100  31.39  31.13  31.152   75434900.0       0.0    1.0   \n",
       "4  2013-09-09  31.2208  31.79  31.20  31.655   49628500.0       0.0    1.0   \n",
       "\n",
       "    Adj_Open   Adj_High    Adj_Low  Adj_Close   Adj_Volume  \n",
       "0  27.728748  28.008219  27.327009  27.842283  154507000.0  \n",
       "1  27.414344  27.484211  27.169807  27.244041  142320600.0  \n",
       "2  27.161073  27.458011  27.030071  27.278975   71644900.0  \n",
       "3  27.344476  27.414344  27.187274  27.206487   75434900.0  \n",
       "4  27.266573  27.763682  27.248408  27.645781   49628500.0  "
      ]
     },
     "execution_count": 6,
     "metadata": {},
     "output_type": "execute_result"
    }
   ],
   "source": [
    "dfm.head()"
   ]
  },
  {
   "cell_type": "code",
   "execution_count": 7,
   "metadata": {
    "scrolled": true
   },
   "outputs": [
    {
     "data": {
      "text/plain": [
       "<Figure size 432x288 with 0 Axes>"
      ]
     },
     "execution_count": 7,
     "metadata": {},
     "output_type": "execute_result"
    },
    {
     "data": {
      "text/plain": [
       "<Figure size 432x288 with 0 Axes>"
      ]
     },
     "metadata": {},
     "output_type": "display_data"
    }
   ],
   "source": [
    "plt.figure()"
   ]
  },
  {
   "cell_type": "code",
   "execution_count": 8,
   "metadata": {},
   "outputs": [
    {
     "data": {
      "text/plain": [
       "Text(0.5, 0, 'Days')"
      ]
     },
     "execution_count": 8,
     "metadata": {},
     "output_type": "execute_result"
    },
    {
     "data": {
      "image/png": "[encoded data removed]",
      "text/plain": [
       "<Figure size 432x288 with 1 Axes>"
      ]
     },
     "metadata": {
      "needs_background": "light"
     },
     "output_type": "display_data"
    }
   ],
   "source": [
    "plt.figure()\n",
    "plt.plot(dfm[\"Open\"])\n",
    "plt.plot(dfm[\"Close\"])\n",
    "plt.legend(['Open','Close'])\n",
    "plt.ylabel('Dollars')\n",
    "plt.xlabel('Days')"
   ]
  },
  {
   "cell_type": "code",
   "execution_count": 9,
   "metadata": {},
   "outputs": [
    {
     "data": {
      "text/plain": [
       "Text(0.5, 0, 'Days')"
      ]
     },
     "execution_count": 9,
     "metadata": {},
     "output_type": "execute_result"
    },
    {
     "data": {
      "image/png": "[encoded data removed]",
      "text/plain": [
       "<Figure size 432x288 with 1 Axes>"
      ]
     },
     "metadata": {
      "needs_background": "light"
     },
     "output_type": "display_data"
    }
   ],
   "source": [
    "plt.figure()\n",
    "plt.plot(dfm[\"High\"])\n",
    "plt.plot(dfm[\"Low\"])\n",
    "plt.legend(['High','Low'])\n",
    "plt.ylabel('Dollars')\n",
    "plt.xlabel('Days')"
   ]
  },
  {
   "cell_type": "code",
   "execution_count": 10,
   "metadata": {},
   "outputs": [
    {
     "data": {
      "text/plain": [
       "Text(0.5, 0, 'Days')"
      ]
     },
     "execution_count": 10,
     "metadata": {},
     "output_type": "execute_result"
    },
    {
     "data": {
      "image/png": "[encoded data removed]",
      "text/plain": [
       "<Figure size 432x288 with 1 Axes>"
      ]
     },
     "metadata": {
      "needs_background": "light"
     },
     "output_type": "display_data"
    }
   ],
   "source": [
    "plt.figure()\n",
    "plt.plot(dfm[\"Volume\"])\n",
    "plt.legend(['Volume'])\n",
    "plt.ylabel('Count')\n",
    "plt.xlabel('Days')"
   ]
  },
  {
   "cell_type": "code",
   "execution_count": 11,
   "metadata": {},
   "outputs": [
    {
     "data": {
      "text/plain": [
       "Date          0\n",
       "Open          0\n",
       "High          0\n",
       "Low           0\n",
       "Close         0\n",
       "Volume        0\n",
       "Dividend      0\n",
       "Split         0\n",
       "Adj_Open      0\n",
       "Adj_High      0\n",
       "Adj_Low       0\n",
       "Adj_Close     0\n",
       "Adj_Volume    0\n",
       "dtype: int64"
      ]
     },
     "execution_count": 11,
     "metadata": {},
     "output_type": "execute_result"
    }
   ],
   "source": [
    "#there are no null values\n",
    "dfm.isna().sum()"
   ]
  },
  {
   "cell_type": "code",
   "execution_count": 15,
   "metadata": {},
   "outputs": [
    {
     "data": {
      "text/plain": [
       "1090.0"
      ]
     },
     "execution_count": 15,
     "metadata": {},
     "output_type": "execute_result"
    }
   ],
   "source": [
    "dfm.loc[:,'Split'].sum()"
   ]
  },
  {
   "cell_type": "code",
   "execution_count": 19,
   "metadata": {},
   "outputs": [],
   "source": [
    "feature_cols = ['Open', 'Close', 'High', 'Low', 'Volume']"
   ]
  },
  {
   "cell_type": "code",
   "execution_count": 26,
   "metadata": {},
   "outputs": [],
   "source": [
    "data = dfm.loc[:,feature_cols]"
   ]
  },
  {
   "cell_type": "code",
   "execution_count": 27,
   "metadata": {},
   "outputs": [
    {
     "data": {
      "text/html": [
       "<div>\n",
       "<style scoped>\n",
       "    .dataframe tbody tr th:only-of-type {\n",
       "        vertical-align: middle;\n",
       "    }\n",
       "\n",
       "    .dataframe tbody tr th {\n",
       "        vertical-align: top;\n",
       "    }\n",
       "\n",
       "    .dataframe thead th {\n",
       "        text-align: right;\n",
       "    }\n",
       "</style>\n",
       "<table border=\"1\" class=\"dataframe\">\n",
       "  <thead>\n",
       "    <tr style=\"text-align: right;\">\n",
       "      <th></th>\n",
       "      <th>Open</th>\n",
       "      <th>Close</th>\n",
       "      <th>High</th>\n",
       "      <th>Low</th>\n",
       "      <th>Volume</th>\n",
       "    </tr>\n",
       "  </thead>\n",
       "  <tbody>\n",
       "    <tr>\n",
       "      <th>0</th>\n",
       "      <td>31.7500</td>\n",
       "      <td>31.880</td>\n",
       "      <td>32.07</td>\n",
       "      <td>31.29</td>\n",
       "      <td>154507000.0</td>\n",
       "    </tr>\n",
       "    <tr>\n",
       "      <th>1</th>\n",
       "      <td>31.3900</td>\n",
       "      <td>31.195</td>\n",
       "      <td>31.47</td>\n",
       "      <td>31.11</td>\n",
       "      <td>142320600.0</td>\n",
       "    </tr>\n",
       "    <tr>\n",
       "      <th>2</th>\n",
       "      <td>31.1000</td>\n",
       "      <td>31.235</td>\n",
       "      <td>31.44</td>\n",
       "      <td>30.95</td>\n",
       "      <td>71644900.0</td>\n",
       "    </tr>\n",
       "    <tr>\n",
       "      <th>3</th>\n",
       "      <td>31.3100</td>\n",
       "      <td>31.152</td>\n",
       "      <td>31.39</td>\n",
       "      <td>31.13</td>\n",
       "      <td>75434900.0</td>\n",
       "    </tr>\n",
       "    <tr>\n",
       "      <th>4</th>\n",
       "      <td>31.2208</td>\n",
       "      <td>31.655</td>\n",
       "      <td>31.79</td>\n",
       "      <td>31.20</td>\n",
       "      <td>49628500.0</td>\n",
       "    </tr>\n",
       "  </tbody>\n",
       "</table>\n",
       "</div>"
      ],
      "text/plain": [
       "      Open   Close   High    Low       Volume\n",
       "0  31.7500  31.880  32.07  31.29  154507000.0\n",
       "1  31.3900  31.195  31.47  31.11  142320600.0\n",
       "2  31.1000  31.235  31.44  30.95   71644900.0\n",
       "3  31.3100  31.152  31.39  31.13   75434900.0\n",
       "4  31.2208  31.655  31.79  31.20   49628500.0"
      ]
     },
     "execution_count": 27,
     "metadata": {},
     "output_type": "execute_result"
    }
   ],
   "source": [
    "data.head()"
   ]
  },
  {
   "cell_type": "code",
   "execution_count": 80,
   "metadata": {},
   "outputs": [],
   "source": [
    "train_x, test_x = train_test_split(data,train_size=0.8, test_size=0.2, shuffle=False)"
   ]
  },
  {
   "cell_type": "code",
   "execution_count": 81,
   "metadata": {},
   "outputs": [
    {
     "data": {
      "text/html": [
       "<div>\n",
       "<style scoped>\n",
       "    .dataframe tbody tr th:only-of-type {\n",
       "        vertical-align: middle;\n",
       "    }\n",
       "\n",
       "    .dataframe tbody tr th {\n",
       "        vertical-align: top;\n",
       "    }\n",
       "\n",
       "    .dataframe thead th {\n",
       "        text-align: right;\n",
       "    }\n",
       "</style>\n",
       "<table border=\"1\" class=\"dataframe\">\n",
       "  <thead>\n",
       "    <tr style=\"text-align: right;\">\n",
       "      <th></th>\n",
       "      <th>Open</th>\n",
       "      <th>Close</th>\n",
       "      <th>High</th>\n",
       "      <th>Low</th>\n",
       "      <th>Volume</th>\n",
       "    </tr>\n",
       "  </thead>\n",
       "  <tbody>\n",
       "    <tr>\n",
       "      <th>867</th>\n",
       "      <td>64.25</td>\n",
       "      <td>64.00</td>\n",
       "      <td>64.30</td>\n",
       "      <td>63.975</td>\n",
       "      <td>18170729.0</td>\n",
       "    </tr>\n",
       "    <tr>\n",
       "      <th>868</th>\n",
       "      <td>64.24</td>\n",
       "      <td>64.72</td>\n",
       "      <td>64.86</td>\n",
       "      <td>64.130</td>\n",
       "      <td>22920101.0</td>\n",
       "    </tr>\n",
       "    <tr>\n",
       "      <th>869</th>\n",
       "      <td>64.41</td>\n",
       "      <td>64.57</td>\n",
       "      <td>64.72</td>\n",
       "      <td>64.020</td>\n",
       "      <td>23108426.0</td>\n",
       "    </tr>\n",
       "    <tr>\n",
       "      <th>870</th>\n",
       "      <td>64.50</td>\n",
       "      <td>64.53</td>\n",
       "      <td>64.57</td>\n",
       "      <td>64.155</td>\n",
       "      <td>17005157.0</td>\n",
       "    </tr>\n",
       "    <tr>\n",
       "      <th>871</th>\n",
       "      <td>64.74</td>\n",
       "      <td>64.52</td>\n",
       "      <td>65.24</td>\n",
       "      <td>64.440</td>\n",
       "      <td>20546345.0</td>\n",
       "    </tr>\n",
       "  </tbody>\n",
       "</table>\n",
       "</div>"
      ],
      "text/plain": [
       "      Open  Close   High     Low      Volume\n",
       "867  64.25  64.00  64.30  63.975  18170729.0\n",
       "868  64.24  64.72  64.86  64.130  22920101.0\n",
       "869  64.41  64.57  64.72  64.020  23108426.0\n",
       "870  64.50  64.53  64.57  64.155  17005157.0\n",
       "871  64.74  64.52  65.24  64.440  20546345.0"
      ]
     },
     "execution_count": 81,
     "metadata": {},
     "output_type": "execute_result"
    }
   ],
   "source": [
    "train_x.tail()"
   ]
  },
  {
   "cell_type": "code",
   "execution_count": 82,
   "metadata": {},
   "outputs": [
    {
     "data": {
      "text/plain": [
       "array([[3.1750000e+01, 3.1880000e+01, 3.2070000e+01, 3.1290000e+01,\n",
       "        1.5450700e+08],\n",
       "       [3.1390000e+01, 3.1195000e+01, 3.1470000e+01, 3.1110000e+01,\n",
       "        1.4232060e+08],\n",
       "       [3.1100000e+01, 3.1235000e+01, 3.1440000e+01, 3.0950000e+01,\n",
       "        7.1644900e+07],\n",
       "       ...,\n",
       "       [6.4410000e+01, 6.4570000e+01, 6.4720000e+01, 6.4020000e+01,\n",
       "        2.3108426e+07],\n",
       "       [6.4500000e+01, 6.4530000e+01, 6.4570000e+01, 6.4155000e+01,\n",
       "        1.7005157e+07],\n",
       "       [6.4740000e+01, 6.4520000e+01, 6.5240000e+01, 6.4440000e+01,\n",
       "        2.0546345e+07]])"
      ]
     },
     "execution_count": 82,
     "metadata": {},
     "output_type": "execute_result"
    }
   ],
   "source": [
    "train_x.values"
   ]
  },
  {
   "cell_type": "code",
   "execution_count": 83,
   "metadata": {},
   "outputs": [
    {
     "data": {
      "text/plain": [
       "array([[6.4470000e+01, 6.4620000e+01, 6.4690000e+01, 6.4300000e+01,\n",
       "        2.1248818e+07],\n",
       "       [6.4610000e+01, 6.4490000e+01, 6.4950000e+01, 6.4450000e+01,\n",
       "        2.0655869e+07],\n",
       "       [6.4330000e+01, 6.4360000e+01, 6.4390000e+01, 6.4050000e+01,\n",
       "        1.9292651e+07],\n",
       "       ...,\n",
       "       [8.5310000e+01, 8.5400000e+01, 8.5534600e+01, 8.5030000e+01,\n",
       "        9.8912370e+06],\n",
       "       [8.5650000e+01, 8.5710000e+01, 8.5980000e+01, 8.5215000e+01,\n",
       "        1.4678025e+07],\n",
       "       [8.5900000e+01, 8.5720000e+01, 8.5930000e+01, 8.5550000e+01,\n",
       "        1.0594344e+07]])"
      ]
     },
     "execution_count": 83,
     "metadata": {},
     "output_type": "execute_result"
    }
   ],
   "source": [
    "test_x.values"
   ]
  },
  {
   "cell_type": "code",
   "execution_count": 84,
   "metadata": {},
   "outputs": [],
   "source": [
    "scaled_train_x = preprocessing.MinMaxScaler().fit_transform(train_x)"
   ]
  },
  {
   "cell_type": "code",
   "execution_count": 85,
   "metadata": {},
   "outputs": [
    {
     "data": {
      "text/plain": [
       "array([[0.01879156, 0.02102345, 0.01969873, 0.01001768, 0.75264174],\n",
       "       [0.00838393, 0.00124177, 0.0023175 , 0.0047142 , 0.68986175],\n",
       "       [0.        , 0.0023969 , 0.00144844, 0.        , 0.32576568],\n",
       "       ...,\n",
       "       [0.96299509, 0.96505718, 0.96552723, 0.97436653, 0.07572304],\n",
       "       [0.96559699, 0.96390204, 0.96118192, 0.97834414, 0.04428117],\n",
       "       [0.97253541, 0.96361326, 0.98059096, 0.98674131, 0.06252411]])"
      ]
     },
     "execution_count": 85,
     "metadata": {},
     "output_type": "execute_result"
    }
   ],
   "source": [
    "scaled_train_x"
   ]
  },
  {
   "cell_type": "code",
   "execution_count": 86,
   "metadata": {},
   "outputs": [],
   "source": [
    "scaled_test_x = preprocessing.MinMaxScaler().fit_transform(test_x)"
   ]
  },
  {
   "cell_type": "code",
   "execution_count": 87,
   "metadata": {},
   "outputs": [
    {
     "data": {
      "text/plain": [
       "array([[0.02159827, 0.02798426, 0.02103013, 0.03007519, 0.21720569],\n",
       "       [0.02764579, 0.02229996, 0.03218898, 0.03670942, 0.20788862],\n",
       "       [0.01555076, 0.01661565, 0.00815454, 0.01901813, 0.18646823],\n",
       "       ...,\n",
       "       [0.92181425, 0.93659816, 0.915652  , 0.94692614, 0.03874278],\n",
       "       [0.93650108, 0.95015304, 0.93476796, 0.95510836, 0.1139581 ],\n",
       "       [0.94730022, 0.95059029, 0.93262203, 0.96992481, 0.04979078]])"
      ]
     },
     "execution_count": 87,
     "metadata": {},
     "output_type": "execute_result"
    }
   ],
   "source": [
    "scaled_test_x"
   ]
  },
  {
   "cell_type": "code",
   "execution_count": null,
   "metadata": {},
   "outputs": [],
   "source": []
  }
 ],
 "metadata": {
  "kernelspec": {
   "display_name": "Python 3",
   "language": "python",
   "name": "python3"
  },
  "language_info": {
   "codemirror_mode": {
    "name": "ipython",
    "version": 3
   },
   "file_extension": ".py",
   "mimetype": "text/x-python",
   "name": "python",
   "nbconvert_exporter": "python",
   "pygments_lexer": "ipython3",
   "version": "3.6.8"
  }
 },
 "nbformat": 4,
 "nbformat_minor": 2
}
